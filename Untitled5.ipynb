{
  "nbformat": 4,
  "nbformat_minor": 0,
  "metadata": {
    "colab": {
      "provenance": []
    },
    "kernelspec": {
      "name": "python3",
      "display_name": "Python 3"
    },
    "language_info": {
      "name": "python"
    }
  },
  "cells": [
    {
      "cell_type": "code",
      "execution_count": 1,
      "metadata": {
        "colab": {
          "base_uri": "https://localhost:8080/"
        },
        "id": "x34McDTDjBKW",
        "outputId": "f4180d40-508c-47d9-c6e2-f0c4923cb241"
      },
      "outputs": [
        {
          "output_type": "stream",
          "name": "stdout",
          "text": [
            "Enter the radius: 3\n",
            "Area of circle is 28.274333882308138\n"
          ]
        }
      ],
      "source": [
        "import math\n",
        "\n",
        "def calculate_circle_area(radius):\n",
        "  area = math.pi * radius**2\n",
        "  return area\n",
        "\n",
        "def main():\n",
        "  radius = float(input(\"Enter the radius: \"))\n",
        "  area = calculate_circle_area(radius)\n",
        "  print(\"Area of circle is\",area)\n",
        "\n",
        "if __name__ == \"__main__\":\n",
        "   main()"
      ]
    },
    {
      "cell_type": "code",
      "source": [
        "def main():\n",
        "  name = input(\"Enter the name: \")\n",
        "  roll_number = input(\"Enter the roll number: \")\n",
        "  mark = input(\"Enter the mark: \")\n",
        "\n",
        "  print(\"Name:\",name)\n",
        "  print(\"Roll number:\",roll_number)\n",
        "  print(\"Mark:\",mark)\n",
        "\n",
        "if __name__ == \"__main__\":\n",
        "  main()"
      ],
      "metadata": {
        "colab": {
          "base_uri": "https://localhost:8080/"
        },
        "id": "9nKEsh0vjHM6",
        "outputId": "e7736ebd-fffe-4d5e-811d-962fb315271f"
      },
      "execution_count": 2,
      "outputs": [
        {
          "output_type": "stream",
          "name": "stdout",
          "text": [
            "Enter the name: simi\n",
            "Enter the roll number: 46\n",
            "Enter the mark: 98\n",
            "Name: simi\n",
            "Roll number: 46\n",
            "Mark: 98\n"
          ]
        }
      ]
    },
    {
      "cell_type": "code",
      "source": [
        "def main():\n",
        "  numbers = input(\"Enter the numbers seperated by commas: \").split(',')\n",
        "  divisible_by_5 = [num.strip() for num in numbers if int(num.strip()) % 5 == 0]\n",
        "  print(\",\".join(divisible_by_5))\n",
        "\n",
        "if __name__ ==\"__main__\":\n",
        "  main()"
      ],
      "metadata": {
        "colab": {
          "base_uri": "https://localhost:8080/"
        },
        "id": "s34VE1pLjPi5",
        "outputId": "9395a065-7a79-49d2-f930-1a7d611d0a17"
      },
      "execution_count": 3,
      "outputs": [
        {
          "output_type": "stream",
          "name": "stdout",
          "text": [
            "Enter the numbers seperated by commas: 12,95,75,63,65,84,80,90,13\n",
            "95,75,65,80,90\n"
          ]
        }
      ]
    },
    {
      "cell_type": "code",
      "source": [
        "def prime(num):\n",
        "  if num <= 1:\n",
        "    return False\n",
        "  if num <= 3:\n",
        "    return True\n",
        "  if num % 2 == 0 or num % 3 ==0:\n",
        "    return False\n",
        "    i = 5\n",
        "    while i * i <= num:\n",
        "      if num % i == 0 or num % (i+2) == 0:\n",
        "        return False\n",
        "        i += 6\n",
        "        return True\n",
        "\n",
        "def main():\n",
        "  num = int(input(\"Enter a number: \"))\n",
        "  if prime(num):\n",
        "    print(num, \"is a prime number\")\n",
        "  else:\n",
        "    print(num, \"is not a prime number\")\n",
        "\n",
        "if __name__ == \"__main__\":\n",
        "  main()"
      ],
      "metadata": {
        "colab": {
          "base_uri": "https://localhost:8080/"
        },
        "id": "ulMjPwE9jYtI",
        "outputId": "92d74be8-866c-4f1e-8a7f-c4fa8ef60b77"
      },
      "execution_count": 4,
      "outputs": [
        {
          "output_type": "stream",
          "name": "stdout",
          "text": [
            "Enter a number: 3\n",
            "3 is a prime number\n"
          ]
        }
      ]
    },
    {
      "cell_type": "code",
      "source": [
        "def reverse_list(input_list):\n",
        "  reversed_list = []\n",
        "  for i in range(len(input_list) -1, -1, -1):\n",
        "     reversed_list.append(input_list[i])\n",
        "     return reversed_list\n",
        "\n",
        "def main():\n",
        "  input_list = input(\"Enter the numbers seperated by commas: \").split(',')\n",
        "  reversed_list = reverse_list(input_list)\n",
        "  print(\"Reversed list:\", \",\".join(reversed_list))\n",
        "\n",
        "if __name__ == \"__main__\":\n",
        "  main()"
      ],
      "metadata": {
        "colab": {
          "base_uri": "https://localhost:8080/"
        },
        "id": "UDyqy0zfji9z",
        "outputId": "f173e165-8501-4642-ba84-8bd264c77aa9"
      },
      "execution_count": 10,
      "outputs": [
        {
          "output_type": "stream",
          "name": "stdout",
          "text": [
            "Enter the numbers seperated by commas: 10,20,30,40,50,60,70,80,90\n",
            "Reversed list: 90\n"
          ]
        }
      ]
    },
    {
      "cell_type": "code",
      "source": [
        "def print_pattern(rows):\n",
        "  for i in range(1, rows + 1):\n",
        "    print(\"*\" * i)\n",
        "\n",
        "def main():\n",
        "  rows = 4\n",
        "  print_pattern(rows)\n",
        "\n",
        "if __name__ == \"__main__\":\n",
        "  main()"
      ],
      "metadata": {
        "colab": {
          "base_uri": "https://localhost:8080/"
        },
        "id": "WsoZUY7Yjn7e",
        "outputId": "63fe8b19-3d62-412d-d92c-71976c818386"
      },
      "execution_count": 17,
      "outputs": [
        {
          "output_type": "stream",
          "name": "stdout",
          "text": [
            "*\n",
            "**\n",
            "***\n",
            "****\n"
          ]
        }
      ]
    },
    {
      "cell_type": "code",
      "source": [
        "def find_maximum(num1, num2, num3):\n",
        "  return max(num1, num2, num3)\n",
        "\n",
        "def main():\n",
        "  num1 = float(input(\"Enter the first number: \"))\n",
        "  num2 = float(input(\"Enter the second number: \"))\n",
        "  num3 = float(input(\"Enter the third number: \"))\n",
        "\n",
        "  maximum = find_maximum(num1, num2, num3)\n",
        "  print(\"The maximum of the threee numbers is:\", maximum)\n",
        "\n",
        "  if __name__ == \"__main__\":\n",
        "    main()\n"
      ],
      "metadata": {
        "id": "fJsM7ed8lLlu"
      },
      "execution_count": 21,
      "outputs": []
    },
    {
      "cell_type": "code",
      "source": [
        "def print_pattern(rows):\n",
        "  for i in range(1, rows + 1):\n",
        "    print(\"*\" * i)\n",
        "  for i in range(rows - 1, 0, -1):\n",
        "      print(\"*\" * i)\n",
        "\n",
        "def main():\n",
        "  rows = 5\n",
        "  print_pattern(rows)\n",
        "\n",
        "if __name__ == \"__main__\":\n",
        "  main()\n"
      ],
      "metadata": {
        "colab": {
          "base_uri": "https://localhost:8080/"
        },
        "id": "SS3Qpfg6mUp6",
        "outputId": "f5233d52-c6fe-4c11-b5b8-9dc4e9b453fb"
      },
      "execution_count": 24,
      "outputs": [
        {
          "output_type": "stream",
          "name": "stdout",
          "text": [
            "*\n",
            "**\n",
            "***\n",
            "****\n",
            "*****\n",
            "****\n",
            "***\n",
            "**\n",
            "*\n"
          ]
        }
      ]
    },
    {
      "cell_type": "code",
      "source": [],
      "metadata": {
        "id": "LA9bODI7mrgr"
      },
      "execution_count": null,
      "outputs": []
    }
  ]
}